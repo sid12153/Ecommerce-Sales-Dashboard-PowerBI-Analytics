{
  "nbformat": 4,
  "nbformat_minor": 0,
  "metadata": {
    "colab": {
      "provenance": []
    },
    "kernelspec": {
      "name": "python3",
      "display_name": "Python 3"
    },
    "language_info": {
      "name": "python"
    }
  },
  "cells": [
    {
      "cell_type": "markdown",
      "source": [
        "# E-Commerce Dataset Visualization\n",
        "This ipynb file deals with exploring, cleaning, preprocessing and feature engineering of the e-commerce dataset to make it ready for visualization"
      ],
      "metadata": {
        "id": "mXGJFiQllDak"
      }
    },
    {
      "cell_type": "code",
      "execution_count": 1,
      "metadata": {
        "colab": {
          "base_uri": "https://localhost:8080/"
        },
        "id": "wXkIYno5k-jP",
        "outputId": "ce7999c2-144c-4669-97b3-4d0037b98eb6"
      },
      "outputs": [
        {
          "output_type": "stream",
          "name": "stdout",
          "text": [
            "<class 'pandas.core.frame.DataFrame'>\n",
            "RangeIndex: 9800 entries, 0 to 9799\n",
            "Data columns (total 18 columns):\n",
            " #   Column         Non-Null Count  Dtype  \n",
            "---  ------         --------------  -----  \n",
            " 0   Row ID         9800 non-null   int64  \n",
            " 1   Order ID       9800 non-null   object \n",
            " 2   Order Date     9800 non-null   object \n",
            " 3   Ship Date      9800 non-null   object \n",
            " 4   Ship Mode      9800 non-null   object \n",
            " 5   Customer ID    9800 non-null   object \n",
            " 6   Customer Name  9800 non-null   object \n",
            " 7   Segment        9800 non-null   object \n",
            " 8   Country        9800 non-null   object \n",
            " 9   City           9800 non-null   object \n",
            " 10  State          9800 non-null   object \n",
            " 11  Postal Code    9789 non-null   float64\n",
            " 12  Region         9800 non-null   object \n",
            " 13  Product ID     9800 non-null   object \n",
            " 14  Category       9800 non-null   object \n",
            " 15  Sub-Category   9800 non-null   object \n",
            " 16  Product Name   9800 non-null   object \n",
            " 17  Sales          9800 non-null   float64\n",
            "dtypes: float64(2), int64(1), object(15)\n",
            "memory usage: 1.3+ MB\n",
            "None\n",
            "   Row ID        Order ID  Order Date   Ship Date       Ship Mode Customer ID  \\\n",
            "0       1  CA-2017-152156  08/11/2017  11/11/2017    Second Class    CG-12520   \n",
            "1       2  CA-2017-152156  08/11/2017  11/11/2017    Second Class    CG-12520   \n",
            "2       3  CA-2017-138688  12/06/2017  16/06/2017    Second Class    DV-13045   \n",
            "3       4  US-2016-108966  11/10/2016  18/10/2016  Standard Class    SO-20335   \n",
            "4       5  US-2016-108966  11/10/2016  18/10/2016  Standard Class    SO-20335   \n",
            "\n",
            "     Customer Name    Segment        Country             City       State  \\\n",
            "0      Claire Gute   Consumer  United States        Henderson    Kentucky   \n",
            "1      Claire Gute   Consumer  United States        Henderson    Kentucky   \n",
            "2  Darrin Van Huff  Corporate  United States      Los Angeles  California   \n",
            "3   Sean O'Donnell   Consumer  United States  Fort Lauderdale     Florida   \n",
            "4   Sean O'Donnell   Consumer  United States  Fort Lauderdale     Florida   \n",
            "\n",
            "   Postal Code Region       Product ID         Category Sub-Category  \\\n",
            "0      42420.0  South  FUR-BO-10001798        Furniture    Bookcases   \n",
            "1      42420.0  South  FUR-CH-10000454        Furniture       Chairs   \n",
            "2      90036.0   West  OFF-LA-10000240  Office Supplies       Labels   \n",
            "3      33311.0  South  FUR-TA-10000577        Furniture       Tables   \n",
            "4      33311.0  South  OFF-ST-10000760  Office Supplies      Storage   \n",
            "\n",
            "                                        Product Name     Sales  \n",
            "0                  Bush Somerset Collection Bookcase  261.9600  \n",
            "1  Hon Deluxe Fabric Upholstered Stacking Chairs,...  731.9400  \n",
            "2  Self-Adhesive Address Labels for Typewriters b...   14.6200  \n",
            "3      Bretford CR4500 Series Slim Rectangular Table  957.5775  \n",
            "4                     Eldon Fold 'N Roll Cart System   22.3680  \n"
          ]
        }
      ],
      "source": [
        "import pandas as pd\n",
        "\n",
        "# Load the dataset\n",
        "file_path = \"/content/train.csv\"\n",
        "df = pd.read_csv(file_path)\n",
        "\n",
        "# Display basic info\n",
        "print(df.info())\n",
        "print(df.head())"
      ]
    },
    {
      "cell_type": "markdown",
      "source": [
        "Missing Value Analysis"
      ],
      "metadata": {
        "id": "UW2U_viRlqqo"
      }
    },
    {
      "cell_type": "code",
      "source": [
        "# Check for missing values\n",
        "print(df.isnull().sum())"
      ],
      "metadata": {
        "colab": {
          "base_uri": "https://localhost:8080/"
        },
        "id": "UH9CVNJvliQN",
        "outputId": "911ab9f4-736e-4dab-e1f4-e6b6d6a50ef5"
      },
      "execution_count": 2,
      "outputs": [
        {
          "output_type": "stream",
          "name": "stdout",
          "text": [
            "Row ID            0\n",
            "Order ID          0\n",
            "Order Date        0\n",
            "Ship Date         0\n",
            "Ship Mode         0\n",
            "Customer ID       0\n",
            "Customer Name     0\n",
            "Segment           0\n",
            "Country           0\n",
            "City              0\n",
            "State             0\n",
            "Postal Code      11\n",
            "Region            0\n",
            "Product ID        0\n",
            "Category          0\n",
            "Sub-Category      0\n",
            "Product Name      0\n",
            "Sales             0\n",
            "dtype: int64\n"
          ]
        }
      ]
    },
    {
      "cell_type": "code",
      "source": [
        "# Drop missing values from Postal code since they are very few\n",
        "df = df.dropna(subset=['Postal Code'])"
      ],
      "metadata": {
        "id": "3TgapbnXlvDm"
      },
      "execution_count": 3,
      "outputs": []
    },
    {
      "cell_type": "code",
      "source": [
        "print(df.info())"
      ],
      "metadata": {
        "colab": {
          "base_uri": "https://localhost:8080/"
        },
        "id": "X4QTVVpfmTmN",
        "outputId": "634533ec-048e-4667-f50f-6fa48113fb2b"
      },
      "execution_count": 6,
      "outputs": [
        {
          "output_type": "stream",
          "name": "stdout",
          "text": [
            "<class 'pandas.core.frame.DataFrame'>\n",
            "Index: 9789 entries, 0 to 9799\n",
            "Data columns (total 18 columns):\n",
            " #   Column         Non-Null Count  Dtype  \n",
            "---  ------         --------------  -----  \n",
            " 0   Row ID         9789 non-null   int64  \n",
            " 1   Order ID       9789 non-null   object \n",
            " 2   Order Date     9789 non-null   object \n",
            " 3   Ship Date      9789 non-null   object \n",
            " 4   Ship Mode      9789 non-null   object \n",
            " 5   Customer ID    9789 non-null   object \n",
            " 6   Customer Name  9789 non-null   object \n",
            " 7   Segment        9789 non-null   object \n",
            " 8   Country        9789 non-null   object \n",
            " 9   City           9789 non-null   object \n",
            " 10  State          9789 non-null   object \n",
            " 11  Postal Code    9789 non-null   float64\n",
            " 12  Region         9789 non-null   object \n",
            " 13  Product ID     9789 non-null   object \n",
            " 14  Category       9789 non-null   object \n",
            " 15  Sub-Category   9789 non-null   object \n",
            " 16  Product Name   9789 non-null   object \n",
            " 17  Sales          9789 non-null   float64\n",
            "dtypes: float64(2), int64(1), object(15)\n",
            "memory usage: 1.4+ MB\n",
            "None\n"
          ]
        }
      ]
    },
    {
      "cell_type": "markdown",
      "source": [
        "Check for Duplicate entries"
      ],
      "metadata": {
        "id": "flDsEdzBmNKA"
      }
    },
    {
      "cell_type": "code",
      "source": [
        "# Check for duplicates\n",
        "print(f\"Duplicates: {df.duplicated().sum()}\")"
      ],
      "metadata": {
        "colab": {
          "base_uri": "https://localhost:8080/"
        },
        "id": "LMCV6PWimMKi",
        "outputId": "be47db37-28a1-492b-ef89-0bf193171b19"
      },
      "execution_count": 4,
      "outputs": [
        {
          "output_type": "stream",
          "name": "stdout",
          "text": [
            "Duplicates: 0\n"
          ]
        }
      ]
    },
    {
      "cell_type": "markdown",
      "source": [
        "Date conversions"
      ],
      "metadata": {
        "id": "5KICJNN4mjez"
      }
    },
    {
      "cell_type": "code",
      "source": [
        "# Converting to standard format\n",
        "df['Order Date'] = pd.to_datetime(df['Order Date'], dayfirst=True)"
      ],
      "metadata": {
        "id": "LXY2yn_AmlMT"
      },
      "execution_count": 10,
      "outputs": []
    },
    {
      "cell_type": "code",
      "source": [
        "df['Order Date']"
      ],
      "metadata": {
        "colab": {
          "base_uri": "https://localhost:8080/",
          "height": 458
        },
        "id": "pBdxayslmmKB",
        "outputId": "6f3b0adf-d93d-40ca-9035-55f16f6805fc"
      },
      "execution_count": 11,
      "outputs": [
        {
          "output_type": "execute_result",
          "data": {
            "text/plain": [
              "0      2017-11-08\n",
              "1      2017-11-08\n",
              "2      2017-06-12\n",
              "3      2016-10-11\n",
              "4      2016-10-11\n",
              "          ...    \n",
              "9795   2017-05-21\n",
              "9796   2016-01-12\n",
              "9797   2016-01-12\n",
              "9798   2016-01-12\n",
              "9799   2016-01-12\n",
              "Name: Order Date, Length: 9789, dtype: datetime64[ns]"
            ],
            "text/html": [
              "<div>\n",
              "<style scoped>\n",
              "    .dataframe tbody tr th:only-of-type {\n",
              "        vertical-align: middle;\n",
              "    }\n",
              "\n",
              "    .dataframe tbody tr th {\n",
              "        vertical-align: top;\n",
              "    }\n",
              "\n",
              "    .dataframe thead th {\n",
              "        text-align: right;\n",
              "    }\n",
              "</style>\n",
              "<table border=\"1\" class=\"dataframe\">\n",
              "  <thead>\n",
              "    <tr style=\"text-align: right;\">\n",
              "      <th></th>\n",
              "      <th>Order Date</th>\n",
              "    </tr>\n",
              "  </thead>\n",
              "  <tbody>\n",
              "    <tr>\n",
              "      <th>0</th>\n",
              "      <td>2017-11-08</td>\n",
              "    </tr>\n",
              "    <tr>\n",
              "      <th>1</th>\n",
              "      <td>2017-11-08</td>\n",
              "    </tr>\n",
              "    <tr>\n",
              "      <th>2</th>\n",
              "      <td>2017-06-12</td>\n",
              "    </tr>\n",
              "    <tr>\n",
              "      <th>3</th>\n",
              "      <td>2016-10-11</td>\n",
              "    </tr>\n",
              "    <tr>\n",
              "      <th>4</th>\n",
              "      <td>2016-10-11</td>\n",
              "    </tr>\n",
              "    <tr>\n",
              "      <th>...</th>\n",
              "      <td>...</td>\n",
              "    </tr>\n",
              "    <tr>\n",
              "      <th>9795</th>\n",
              "      <td>2017-05-21</td>\n",
              "    </tr>\n",
              "    <tr>\n",
              "      <th>9796</th>\n",
              "      <td>2016-01-12</td>\n",
              "    </tr>\n",
              "    <tr>\n",
              "      <th>9797</th>\n",
              "      <td>2016-01-12</td>\n",
              "    </tr>\n",
              "    <tr>\n",
              "      <th>9798</th>\n",
              "      <td>2016-01-12</td>\n",
              "    </tr>\n",
              "    <tr>\n",
              "      <th>9799</th>\n",
              "      <td>2016-01-12</td>\n",
              "    </tr>\n",
              "  </tbody>\n",
              "</table>\n",
              "<p>9789 rows × 1 columns</p>\n",
              "</div><br><label><b>dtype:</b> datetime64[ns]</label>"
            ]
          },
          "metadata": {},
          "execution_count": 11
        }
      ]
    },
    {
      "cell_type": "markdown",
      "source": [
        "Creating New Features"
      ],
      "metadata": {
        "id": "XsGGDFNmncyN"
      }
    },
    {
      "cell_type": "code",
      "source": [
        "#Total Revenue\n",
        "total_revenue = df['Sales'].sum()\n",
        "print(f\"Total Revenue: ${total_revenue:.2f}\")"
      ],
      "metadata": {
        "colab": {
          "base_uri": "https://localhost:8080/"
        },
        "id": "WLJ9uS9onKIV",
        "outputId": "bd6cd227-39a5-4b88-dd65-d2fe6b332f76"
      },
      "execution_count": 13,
      "outputs": [
        {
          "output_type": "stream",
          "name": "stdout",
          "text": [
            "Total Revenue: $2252607.41\n"
          ]
        }
      ]
    },
    {
      "cell_type": "code",
      "source": [
        "# Total Orders\n",
        "num_orders = df['Order ID'].nunique()\n",
        "print(f\"Total Orders: {num_orders}\")"
      ],
      "metadata": {
        "colab": {
          "base_uri": "https://localhost:8080/"
        },
        "id": "JheKqwdKniai",
        "outputId": "d4a5963b-9c5f-4b69-e96d-ae45596b65b9"
      },
      "execution_count": 15,
      "outputs": [
        {
          "output_type": "stream",
          "name": "stdout",
          "text": [
            "Total Orders: 4916\n"
          ]
        }
      ]
    },
    {
      "cell_type": "code",
      "source": [
        "#Average Order Value\n",
        "avg_order_value = total_revenue / num_orders\n",
        "print(f\"Average Order Value: ${avg_order_value:.2f}\")"
      ],
      "metadata": {
        "colab": {
          "base_uri": "https://localhost:8080/"
        },
        "id": "xxX-LS9Mnrce",
        "outputId": "b7801736-d974-4dfd-93db-007d733f3ce1"
      },
      "execution_count": 16,
      "outputs": [
        {
          "output_type": "stream",
          "name": "stdout",
          "text": [
            "Average Order Value: $458.22\n"
          ]
        }
      ]
    },
    {
      "cell_type": "code",
      "source": [
        "#Yearly Sales\n",
        "df['year'] = df['Order Date'].dt.to_period('Y')\n",
        "monthly_sales = df.groupby('year')['Sales'].sum().reset_index()"
      ],
      "metadata": {
        "id": "NvsnnthFoCB_"
      },
      "execution_count": 17,
      "outputs": []
    },
    {
      "cell_type": "code",
      "source": [
        "#Monthly Sales\n",
        "df['month'] = df['Order Date'].dt.to_period('M')\n",
        "monthly_sales = df.groupby('month')['Sales'].sum().reset_index()"
      ],
      "metadata": {
        "id": "SV2ljSWfn5p6"
      },
      "execution_count": 19,
      "outputs": []
    },
    {
      "cell_type": "code",
      "source": [
        "#Quarterly Sales\n",
        "df['quarter'] = df['Order Date'].dt.to_period('Q')\n",
        "quarterly_sales = df.groupby('quarter')['Sales'].sum().reset_index()"
      ],
      "metadata": {
        "id": "hQY_tMuVoPkV"
      },
      "execution_count": 20,
      "outputs": []
    },
    {
      "cell_type": "markdown",
      "source": [
        "Final Dataset"
      ],
      "metadata": {
        "id": "FTFhkQjlob1y"
      }
    },
    {
      "cell_type": "code",
      "source": [
        "print(df.info())"
      ],
      "metadata": {
        "colab": {
          "base_uri": "https://localhost:8080/"
        },
        "id": "e0so4xWaoY6H",
        "outputId": "5ef16f6b-c309-463a-c4cc-9211199dc911"
      },
      "execution_count": 22,
      "outputs": [
        {
          "output_type": "stream",
          "name": "stdout",
          "text": [
            "<class 'pandas.core.frame.DataFrame'>\n",
            "Index: 9789 entries, 0 to 9799\n",
            "Data columns (total 21 columns):\n",
            " #   Column         Non-Null Count  Dtype         \n",
            "---  ------         --------------  -----         \n",
            " 0   Row ID         9789 non-null   int64         \n",
            " 1   Order ID       9789 non-null   object        \n",
            " 2   Order Date     9789 non-null   datetime64[ns]\n",
            " 3   Ship Date      9789 non-null   object        \n",
            " 4   Ship Mode      9789 non-null   object        \n",
            " 5   Customer ID    9789 non-null   object        \n",
            " 6   Customer Name  9789 non-null   object        \n",
            " 7   Segment        9789 non-null   object        \n",
            " 8   Country        9789 non-null   object        \n",
            " 9   City           9789 non-null   object        \n",
            " 10  State          9789 non-null   object        \n",
            " 11  Postal Code    9789 non-null   float64       \n",
            " 12  Region         9789 non-null   object        \n",
            " 13  Product ID     9789 non-null   object        \n",
            " 14  Category       9789 non-null   object        \n",
            " 15  Sub-Category   9789 non-null   object        \n",
            " 16  Product Name   9789 non-null   object        \n",
            " 17  Sales          9789 non-null   float64       \n",
            " 18  year           9789 non-null   period[Y-DEC] \n",
            " 19  month          9789 non-null   period[M]     \n",
            " 20  quarter        9789 non-null   period[Q-DEC] \n",
            "dtypes: datetime64[ns](1), float64(2), int64(1), object(14), period[M](1), period[Q-DEC](1), period[Y-DEC](1)\n",
            "memory usage: 1.6+ MB\n",
            "None\n"
          ]
        }
      ]
    },
    {
      "cell_type": "code",
      "source": [
        "print(df.head())"
      ],
      "metadata": {
        "colab": {
          "base_uri": "https://localhost:8080/"
        },
        "id": "V21jVD0Mof0E",
        "outputId": "e0138a47-d342-4393-80e9-762dbfff7078"
      },
      "execution_count": 23,
      "outputs": [
        {
          "output_type": "stream",
          "name": "stdout",
          "text": [
            "   Row ID        Order ID Order Date   Ship Date       Ship Mode Customer ID  \\\n",
            "0       1  CA-2017-152156 2017-11-08  11/11/2017    Second Class    CG-12520   \n",
            "1       2  CA-2017-152156 2017-11-08  11/11/2017    Second Class    CG-12520   \n",
            "2       3  CA-2017-138688 2017-06-12  16/06/2017    Second Class    DV-13045   \n",
            "3       4  US-2016-108966 2016-10-11  18/10/2016  Standard Class    SO-20335   \n",
            "4       5  US-2016-108966 2016-10-11  18/10/2016  Standard Class    SO-20335   \n",
            "\n",
            "     Customer Name    Segment        Country             City  ...  \\\n",
            "0      Claire Gute   Consumer  United States        Henderson  ...   \n",
            "1      Claire Gute   Consumer  United States        Henderson  ...   \n",
            "2  Darrin Van Huff  Corporate  United States      Los Angeles  ...   \n",
            "3   Sean O'Donnell   Consumer  United States  Fort Lauderdale  ...   \n",
            "4   Sean O'Donnell   Consumer  United States  Fort Lauderdale  ...   \n",
            "\n",
            "  Postal Code  Region       Product ID         Category Sub-Category  \\\n",
            "0     42420.0   South  FUR-BO-10001798        Furniture    Bookcases   \n",
            "1     42420.0   South  FUR-CH-10000454        Furniture       Chairs   \n",
            "2     90036.0    West  OFF-LA-10000240  Office Supplies       Labels   \n",
            "3     33311.0   South  FUR-TA-10000577        Furniture       Tables   \n",
            "4     33311.0   South  OFF-ST-10000760  Office Supplies      Storage   \n",
            "\n",
            "                                        Product Name     Sales  year    month  \\\n",
            "0                  Bush Somerset Collection Bookcase  261.9600  2017  2017-11   \n",
            "1  Hon Deluxe Fabric Upholstered Stacking Chairs,...  731.9400  2017  2017-11   \n",
            "2  Self-Adhesive Address Labels for Typewriters b...   14.6200  2017  2017-06   \n",
            "3      Bretford CR4500 Series Slim Rectangular Table  957.5775  2016  2016-10   \n",
            "4                     Eldon Fold 'N Roll Cart System   22.3680  2016  2016-10   \n",
            "\n",
            "  quarter  \n",
            "0  2017Q4  \n",
            "1  2017Q4  \n",
            "2  2017Q2  \n",
            "3  2016Q4  \n",
            "4  2016Q4  \n",
            "\n",
            "[5 rows x 21 columns]\n"
          ]
        }
      ]
    },
    {
      "cell_type": "markdown",
      "source": [
        "Saving New Dataset"
      ],
      "metadata": {
        "id": "T1Y6FC4Moopl"
      }
    },
    {
      "cell_type": "code",
      "source": [
        "df.to_csv(\"/content/cleaned_ecommerce_data.csv\", index=False)"
      ],
      "metadata": {
        "id": "pmXjLLaJomgU"
      },
      "execution_count": 24,
      "outputs": []
    }
  ]
}